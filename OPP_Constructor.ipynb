{
 "cells": [
  {
   "cell_type": "markdown",
   "id": "ff35f5b2-91b2-461d-bfb1-8defb31c6e20",
   "metadata": {},
   "source": [
    "# Constructor :\n",
    "## Constructor is special method in class which is used to create and initialize an object of class.\n",
    "## A constructor is unique function that gets called automatically when object of class is created.The main purpose of constructor is to initialize or assign the values to the data member of that class.\n",
    "## Syntax:\n",
    "## def __init__(self,parameter_1,paramater_2)\n",
    "## self.parameter_1 = xyz\n",
    "## self.parameter_2 = abc\n",
    "## Types of constructor :\n",
    "## 1. Default Constructor.\n",
    "## 2. Parameterised constructor.\n",
    "\n",
    "​\n",
    "\n"
   ]
  },
  {
   "cell_type": "markdown",
   "id": "f70316a8-9564-4ec9-9cb8-7d5bb69c4eb5",
   "metadata": {},
   "source": [
    "## Default Constructor :"
   ]
  },
  {
   "cell_type": "markdown",
   "id": "b6227a8d-9602-4267-aa43-4adec5862589",
   "metadata": {},
   "source": [
    "### When the constructor doesn't accept any arguments from object and has only single argument called \"self\" in constructor called os default constructor"
   ]
  },
  {
   "cell_type": "code",
   "execution_count": 1,
   "id": "8ba58b17-e5f1-4ce9-b134-751a9480e940",
   "metadata": {},
   "outputs": [],
   "source": [
    "class animal:\n",
    "    def __init__(self):\n",
    "        print(\"SAVE ANIMALS\")\n",
    "        "
   ]
  },
  {
   "cell_type": "code",
   "execution_count": 5,
   "id": "2eaf2922-3e61-4d3b-847e-de23aa3c8532",
   "metadata": {},
   "outputs": [
    {
     "name": "stdout",
     "output_type": "stream",
     "text": [
      "SAVE ANIMALS\n",
      "SAVE ANIMALS\n"
     ]
    }
   ],
   "source": [
    "deer = animal()\n",
    "horse = animal()"
   ]
  },
  {
   "cell_type": "markdown",
   "id": "c8837260-c220-44c6-b353-5230bc0d5002",
   "metadata": {},
   "source": [
    "## Parameterised Constructor :\n"
   ]
  },
  {
   "cell_type": "markdown",
   "id": "c6511b88-b001-4f8a-9598-26835ed07863",
   "metadata": {},
   "source": [
    "## when the constructor accepts arguments along with self, it is known as parameterised constructor. These arguments are used inside the class to assign values to the data member."
   ]
  },
  {
   "cell_type": "code",
   "execution_count": 10,
   "id": "edad3def-e0f5-4b85-bdb3-67d7eaa00ab1",
   "metadata": {},
   "outputs": [],
   "source": [
    "class car:\n",
    "    def __init__(self,company,model):\n",
    "        print(\"In current BS-VI segment : \")\n",
    "        self.company = company\n",
    "        self.model = model\n",
    "        \n",
    "    def info(self):\n",
    "        print(f\"{self.company} has best vehicle. In which {self.model} is best model\")\n",
    "        "
   ]
  },
  {
   "cell_type": "code",
   "execution_count": 11,
   "id": "a28ba48e-30d4-4fec-b647-7a1596ed6477",
   "metadata": {},
   "outputs": [
    {
     "name": "stdout",
     "output_type": "stream",
     "text": [
      "In current BS-VI segment : \n",
      "BMW has best vehicle. In which X6 is best model\n"
     ]
    }
   ],
   "source": [
    "obj_1 = car(\"BMW\",\"X6\")\n",
    "obj_1.info()"
   ]
  },
  {
   "cell_type": "code",
   "execution_count": 12,
   "id": "3265d014-7cce-4013-a779-44c87d5226d2",
   "metadata": {},
   "outputs": [
    {
     "name": "stdout",
     "output_type": "stream",
     "text": [
      "In current BS-VI segment : \n",
      "audi has best vehicle. In which Q7 is best model\n"
     ]
    }
   ],
   "source": [
    "car_2 = car(\"audi\",\"Q7\")\n",
    "car_2.info()"
   ]
  },
  {
   "cell_type": "code",
   "execution_count": null,
   "id": "67274e62-517b-401b-b761-318418b2f8f9",
   "metadata": {},
   "outputs": [],
   "source": []
  }
 ],
 "metadata": {
  "kernelspec": {
   "display_name": "Python 3 (ipykernel)",
   "language": "python",
   "name": "python3"
  },
  "language_info": {
   "codemirror_mode": {
    "name": "ipython",
    "version": 3
   },
   "file_extension": ".py",
   "mimetype": "text/x-python",
   "name": "python",
   "nbconvert_exporter": "python",
   "pygments_lexer": "ipython3",
   "version": "3.10.8"
  }
 },
 "nbformat": 4,
 "nbformat_minor": 5
}
